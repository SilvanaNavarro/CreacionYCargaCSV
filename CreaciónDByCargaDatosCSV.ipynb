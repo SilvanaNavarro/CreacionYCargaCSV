{
 "cells": [
  {
   "cell_type": "code",
   "execution_count": 1,
   "id": "1a2c561d",
   "metadata": {},
   "outputs": [],
   "source": [
    "import pandas as pd\n",
    "import sqlite3\n",
    "\n",
    "conn=sqlite3.connect('STAFF.db')"
   ]
  },
  {
   "cell_type": "code",
   "execution_count": 2,
   "id": "62563126",
   "metadata": {},
   "outputs": [],
   "source": [
    "table_name = 'INSTRUCTOR'\n",
    "attribute_list = ['ID', 'FNAME', 'LNAME', 'CITY', 'CCODE']"
   ]
  },
  {
   "cell_type": "code",
   "execution_count": 3,
   "id": "6e8faca4",
   "metadata": {},
   "outputs": [],
   "source": [
    "file_path = 'INSTRUCTOR.csv'\n",
    "df = pd.read_csv(file_path, names = attribute_list)"
   ]
  },
  {
   "cell_type": "code",
   "execution_count": 4,
   "id": "ef11badd",
   "metadata": {},
   "outputs": [
    {
     "name": "stdout",
     "output_type": "stream",
     "text": [
      "Tabla lista\n"
     ]
    }
   ],
   "source": [
    "df.to_sql(table_name, conn, if_exists = 'replace', index =False)\n",
    "print('Tabla lista')"
   ]
  },
  {
   "cell_type": "code",
   "execution_count": 5,
   "id": "9f02949e",
   "metadata": {},
   "outputs": [
    {
     "name": "stdout",
     "output_type": "stream",
     "text": [
      "SELECT * FROM INSTRUCTOR\n",
      "    ID    FNAME      LNAME      CITY CCODE\n",
      "0    1      Rav      Ahuja   TORONTO    CA\n",
      "1    2     Raul      Chong   Markham    CA\n",
      "2    3     Hima  Vasudevan   Chicago    US\n",
      "3    4     John     Thomas  Illinois    US\n",
      "4    5    Alice      James  Illinois    US\n",
      "5    6    Steve      Wells  Illinois    US\n",
      "6    7  Santosh      Kumar  Illinois    US\n",
      "7    8    Ahmed    Hussain  Illinois    US\n",
      "8    9    Nancy      Allen  Illinois    US\n",
      "9   10     Mary     Thomas  Illinois    US\n",
      "10  11  Bharath      Gupta  Illinois    US\n",
      "11  12   Andrea      Jones  Illinois    US\n",
      "12  13      Ann      Jacob  Illinois    US\n",
      "13  14     Amit      Kumar  NewDelhi    IN\n"
     ]
    }
   ],
   "source": [
    "query_statement = f\"SELECT * FROM {table_name}\"\n",
    "query_output = pd.read_sql(query_statement, conn)\n",
    "print(query_statement)\n",
    "print(query_output)"
   ]
  },
  {
   "cell_type": "code",
   "execution_count": 6,
   "id": "6fb5bb94",
   "metadata": {},
   "outputs": [
    {
     "name": "stdout",
     "output_type": "stream",
     "text": [
      "SELECT FNAME FROM INSTRUCTOR\n",
      "      FNAME\n",
      "0       Rav\n",
      "1      Raul\n",
      "2      Hima\n",
      "3      John\n",
      "4     Alice\n",
      "5     Steve\n",
      "6   Santosh\n",
      "7     Ahmed\n",
      "8     Nancy\n",
      "9      Mary\n",
      "10  Bharath\n",
      "11   Andrea\n",
      "12      Ann\n",
      "13     Amit\n"
     ]
    }
   ],
   "source": [
    "query_statement = f\"SELECT FNAME FROM {table_name}\"\n",
    "query_output = pd.read_sql(query_statement, conn)\n",
    "print(query_statement)\n",
    "print(query_output)"
   ]
  },
  {
   "cell_type": "code",
   "execution_count": 7,
   "id": "88832d8d",
   "metadata": {},
   "outputs": [
    {
     "name": "stdout",
     "output_type": "stream",
     "text": [
      "SELECT COUNT(*) FROM INSTRUCTOR\n",
      "   COUNT(*)\n",
      "0        14\n"
     ]
    }
   ],
   "source": [
    "query_statement = f\"SELECT COUNT(*) FROM {table_name}\"\n",
    "query_output = pd.read_sql(query_statement, conn)\n",
    "print(query_statement)\n",
    "print(query_output)"
   ]
  },
  {
   "cell_type": "code",
   "execution_count": 8,
   "id": "3f617e51",
   "metadata": {},
   "outputs": [
    {
     "name": "stdout",
     "output_type": "stream",
     "text": [
      "Datos agregados con éxito\n"
     ]
    }
   ],
   "source": [
    "data_dict = {'ID' : [100],\n",
    "            'FNAME' : ['John'],\n",
    "            'LNAME' : ['Doe'],\n",
    "            'CITY' : ['Paris'],\n",
    "            'CCODE' : ['FR']}\n",
    "data_append = pd.DataFrame(data_dict)\n",
    "data_append.to_sql(table_name, conn, if_exists = 'append', index =False)\n",
    "print('Datos agregados con éxito')"
   ]
  },
  {
   "cell_type": "code",
   "execution_count": 9,
   "id": "6cc60e74",
   "metadata": {},
   "outputs": [],
   "source": [
    "conn.close()"
   ]
  },
  {
   "cell_type": "code",
   "execution_count": 12,
   "id": "17a227ac",
   "metadata": {},
   "outputs": [
    {
     "name": "stdout",
     "output_type": "stream",
     "text": [
      "Tabla lista\n"
     ]
    }
   ],
   "source": [
    "conn=sqlite3.connect('STAFF.db')\n",
    "table_name = 'DEPARTMENTS'\n",
    "attribute_list = ['DEPT_ID', 'DEP_NAME', 'MANAGER_ID', 'LOC_ID']\n",
    "file_path = 'Departments_.csv'\n",
    "df = pd.read_csv(file_path, names = attribute_list)\n",
    "df.to_sql(table_name, conn, if_exists = 'replace', index =False)\n",
    "print('Tabla lista')"
   ]
  },
  {
   "cell_type": "code",
   "execution_count": 14,
   "id": "fbd86893",
   "metadata": {},
   "outputs": [
    {
     "name": "stdout",
     "output_type": "stream",
     "text": [
      "Datos agregados con éxito\n"
     ]
    }
   ],
   "source": [
    "data_dict = {'DEPT_ID' : [9],\n",
    "            'DEP_NAME' : ['Quality Assurance'],\n",
    "            'MANAGER_ID' : [30010],\n",
    "            'LOC_ID' : ['L0010']\n",
    "            }\n",
    "data_append = pd.DataFrame(data_dict)\n",
    "data_append.to_sql(table_name, conn, if_exists = 'append', index =False)\n",
    "print('Datos agregados con éxito')"
   ]
  },
  {
   "cell_type": "code",
   "execution_count": 15,
   "id": "ce1f92ea",
   "metadata": {},
   "outputs": [
    {
     "name": "stdout",
     "output_type": "stream",
     "text": [
      "SELECT * FROM DEPARTMENTS\n",
      "   DEPT_ID           DEP_NAME  MANAGER_ID LOC_ID\n",
      "0        2    Architect Group       30001  L0001\n",
      "1        5     Software Group       30002  L0002\n",
      "2        7        Design Team       30003  L0003\n",
      "3        9  Quality Assurance       30010  L0010\n"
     ]
    }
   ],
   "source": [
    "query_statement = f\"SELECT * FROM {table_name}\"\n",
    "query_output = pd.read_sql(query_statement, conn)\n",
    "print(query_statement)\n",
    "print(query_output)"
   ]
  },
  {
   "cell_type": "code",
   "execution_count": 16,
   "id": "e453064d",
   "metadata": {},
   "outputs": [
    {
     "name": "stdout",
     "output_type": "stream",
     "text": [
      "SELECT DEP_NAME FROM DEPARTMENTS\n",
      "            DEP_NAME\n",
      "0    Architect Group\n",
      "1     Software Group\n",
      "2        Design Team\n",
      "3  Quality Assurance\n"
     ]
    }
   ],
   "source": [
    "query_statement = f\"SELECT DEP_NAME FROM {table_name}\"\n",
    "query_output = pd.read_sql(query_statement, conn)\n",
    "print(query_statement)\n",
    "print(query_output)"
   ]
  },
  {
   "cell_type": "code",
   "execution_count": 17,
   "id": "99b5eef8",
   "metadata": {},
   "outputs": [
    {
     "name": "stdout",
     "output_type": "stream",
     "text": [
      "SELECT COUNT(*) FROM DEPARTMENTS\n",
      "   COUNT(*)\n",
      "0         4\n"
     ]
    }
   ],
   "source": [
    "query_statement = f\"SELECT COUNT(*) FROM {table_name}\"\n",
    "query_output = pd.read_sql(query_statement, conn)\n",
    "print(query_statement)\n",
    "print(query_output)"
   ]
  },
  {
   "cell_type": "code",
   "execution_count": null,
   "id": "824d0925",
   "metadata": {},
   "outputs": [],
   "source": []
  }
 ],
 "metadata": {
  "kernelspec": {
   "display_name": "Python 3 (ipykernel)",
   "language": "python",
   "name": "python3"
  },
  "language_info": {
   "codemirror_mode": {
    "name": "ipython",
    "version": 3
   },
   "file_extension": ".py",
   "mimetype": "text/x-python",
   "name": "python",
   "nbconvert_exporter": "python",
   "pygments_lexer": "ipython3",
   "version": "3.11.4"
  }
 },
 "nbformat": 4,
 "nbformat_minor": 5
}
